{
 "cells": [
  {
   "cell_type": "code",
   "execution_count": 156,
   "metadata": {},
   "outputs": [
    {
     "name": "stdout",
     "output_type": "stream",
     "text": [
      "49999\n",
      "24999\n",
      "12499\n",
      "6249\n",
      "3123\n",
      "1561\n",
      "779\n",
      "389\n",
      "193\n",
      "95\n",
      "47\n",
      "23\n",
      "11\n",
      "10\n",
      "9\n",
      "[2, 2, 2, 2, 2, 2, 3, 3, 3]\n",
      "[2, 4, 6, 8, 10, 12, 15, 18, 21]\n"
     ]
    }
   ],
   "source": [
    "N = 9\n",
    "X_lst = [2,2,2,3,3,3,2,2,2]\n",
    "\n",
    "X_lst = sorted(X_lst)\n",
    "\n",
    "X_sum_lst = []\n",
    "temp = 0\n",
    "for X in X_lst:\n",
    "    temp+=X\n",
    "    X_sum_lst.append(temp)\n",
    "\n",
    "N_max = 100000\n",
    "left = 0\n",
    "while N_max > N:\n",
    "    if (N_max + left)/2 > N:\n",
    "        N_max = round((N_max + left)/2)\n",
    "    N_max -= 1\n",
    "    print(N_max)\n",
    "print(X_lst)\n",
    "print(X_sum_lst)\n",
    "answer = 1\n",
    "for X_sum in X_sum_lst:\n",
    "    if X_sum < N_max:\n",
    "        answer += 1"
   ]
  },
  {
   "cell_type": "code",
   "execution_count": 155,
   "metadata": {},
   "outputs": [
    {
     "name": "stdout",
     "output_type": "stream",
     "text": [
      "5\n"
     ]
    }
   ],
   "source": [
    "print(answer)"
   ]
  },
  {
   "cell_type": "code",
   "execution_count": 235,
   "metadata": {},
   "outputs": [
    {
     "name": "stdout",
     "output_type": "stream",
     "text": [
      "9\n",
      "2 2 2 2 2 3 3 3 3\n",
      "4\n"
     ]
    }
   ],
   "source": [
    "#  문제에서 마지막 예시가 포함 X -> 다시짠 코드 -> BUT 런타임에러\n",
    "N = int(input())\n",
    "X = list(map(int,input(\"\").split(\" \")))\n",
    "\n",
    "X_lst = sorted(X_lst)\n",
    "\n",
    "answer = 0\n",
    "rest =[]\n",
    "for i in set(X_lst):\n",
    "    if X_lst.count(i) % i == 0:\n",
    "        answer += X_lst.count(i) // i\n",
    "    else:\n",
    "        rest.extend([i]*X_lst.count(i))\n",
    "\n",
    "X_sum_lst = []\n",
    "temp = 0\n",
    "for X in rest:\n",
    "    temp+=X\n",
    "    X_sum_lst.append(temp)\n",
    "\n",
    "N_max = 100000\n",
    "left = 0\n",
    "while N_max > N:\n",
    "    if (N_max + left)/2 > N:\n",
    "        N_max = round((N_max + left)/2)\n",
    "    N_max -= 1\n",
    "for X_sum in X_sum_lst:\n",
    "    if X_sum <= N_max:\n",
    "        answer += 1\n",
    "print(answer)"
   ]
  },
  {
   "cell_type": "code",
   "execution_count": null,
   "metadata": {},
   "outputs": [],
   "source": []
  }
 ],
 "metadata": {
  "kernelspec": {
   "display_name": "Python 3",
   "language": "python",
   "name": "python3"
  },
  "language_info": {
   "codemirror_mode": {
    "name": "ipython",
    "version": 3
   },
   "file_extension": ".py",
   "mimetype": "text/x-python",
   "name": "python",
   "nbconvert_exporter": "python",
   "pygments_lexer": "ipython3",
   "version": "3.8.5"
  }
 },
 "nbformat": 4,
 "nbformat_minor": 4
}
