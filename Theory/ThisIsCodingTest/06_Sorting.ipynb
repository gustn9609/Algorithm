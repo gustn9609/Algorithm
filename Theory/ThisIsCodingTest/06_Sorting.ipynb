{
 "cells": [
  {
   "cell_type": "code",
   "execution_count": 1,
   "metadata": {},
   "outputs": [
    {
     "name": "stdout",
     "output_type": "stream",
     "text": [
      "[0, 1, 2, 3, 4, 5, 6, 7, 8, 9]\n"
     ]
    }
   ],
   "source": [
    "# 선택정렬\n",
    "array = [7,5,9,0,3,1,6,2,4,8]\n",
    "\n",
    "for i in range(len(array)):\n",
    "  min_index = i\n",
    "  for j in range(i+1, len(array)):\n",
    "    if array[min_index] > array[j]:\n",
    "      min_index = j\n",
    "  array[i], array[min_index] = array[min_index], array[i] # 스와프\n",
    "\n",
    "print(array)"
   ]
  },
  {
   "cell_type": "code",
   "execution_count": 2,
   "metadata": {},
   "outputs": [
    {
     "name": "stdout",
     "output_type": "stream",
     "text": [
      "1 번째 인덱스를\n",
      "1 이랑 비교\n",
      "   \n",
      "2 번째 인덱스를\n",
      "2 이랑 비교\n",
      "   \n",
      "3 번째 인덱스를\n",
      "3 이랑 비교\n",
      "2 이랑 비교\n",
      "1 이랑 비교\n",
      "   \n",
      "4 번째 인덱스를\n",
      "4 이랑 비교\n",
      "3 이랑 비교\n",
      "2 이랑 비교\n",
      "1 이랑 비교\n",
      "   \n",
      "5 번째 인덱스를\n",
      "5 이랑 비교\n",
      "4 이랑 비교\n",
      "3 이랑 비교\n",
      "2 이랑 비교\n",
      "1 이랑 비교\n",
      "   \n",
      "6 번째 인덱스를\n",
      "6 이랑 비교\n",
      "5 이랑 비교\n",
      "4 이랑 비교\n",
      "   \n",
      "7 번째 인덱스를\n",
      "7 이랑 비교\n",
      "6 이랑 비교\n",
      "5 이랑 비교\n",
      "4 이랑 비교\n",
      "3 이랑 비교\n",
      "2 이랑 비교\n",
      "   \n",
      "8 번째 인덱스를\n",
      "8 이랑 비교\n",
      "7 이랑 비교\n",
      "6 이랑 비교\n",
      "5 이랑 비교\n",
      "4 이랑 비교\n",
      "   \n",
      "9 번째 인덱스를\n",
      "9 이랑 비교\n",
      "8 이랑 비교\n",
      "   \n",
      "[0, 1, 2, 3, 4, 5, 6, 7, 8, 9]\n"
     ]
    }
   ],
   "source": [
    "# 삽입정렬\n",
    "array = [7,5,9,0,3,1,6,2,4,8]\n",
    "\n",
    "for i in range(1, len(array)):\n",
    "  print(i,'번째 인덱스를')\n",
    "  for j in range(i, 0, -1):\n",
    "    print(j,'이랑 비교')\n",
    "    if array[j] < array[j - 1]:\n",
    "      array[j], array[j - 1] = array[j - 1], array[j]\n",
    "    else:\n",
    "      break\n",
    "  print(\"   \")\n",
    "\n",
    "print(array)"
   ]
  },
  {
   "cell_type": "code",
   "execution_count": 3,
   "metadata": {},
   "outputs": [
    {
     "name": "stdout",
     "output_type": "stream",
     "text": [
      "[0, 1, 2, 4, 3, 5, 6, 7, 9, 8]\n"
     ]
    }
   ],
   "source": [
    "# 퀵 정렬\n",
    "\n",
    "array = [5,7,9,0,3,1,6,2,4,8]\n",
    "\n",
    "def quick_sort(array, start , end):\n",
    "  if start >= end:\n",
    "    return\n",
    "  pivot = start\n",
    "  left = start + 1\n",
    "  right = end\n",
    "  while left <= right:\n",
    "    while left <= end and array[left] <= array[pivot]:\n",
    "      left += 1\n",
    "    while right > start and array[right] >= array[pivot]:\n",
    "      right -= 1\n",
    "    if left > right:\n",
    "      array[right], array[pivot] = array[pivot], array[right]\n",
    "    else:\n",
    "      array[left], array[pivot] = array[pivot], array[left]\n",
    "  quick_sort(array, start, right - 1)\n",
    "  quick_sort(array, right + 1, end)\n",
    "\n",
    "quick_sort(array,0,len(array) - 1)\n",
    "print(array)"
   ]
  },
  {
   "cell_type": "code",
   "execution_count": 4,
   "metadata": {},
   "outputs": [
    {
     "name": "stdout",
     "output_type": "stream",
     "text": [
      "[0, 1, 2, 3, 4, 5, 6, 7, 8, 9]\n"
     ]
    }
   ],
   "source": [
    "def quick_sort(array):\n",
    "  if len(array) <= 1:\n",
    "    return array\n",
    "  pivot = array[0]\n",
    "  tail = array[1:]\n",
    "  \n",
    "  left_side = [x for x in tail if x <= pivot]\n",
    "  right_side = [x for x in tail if x > pivot]\n",
    "\n",
    "  return quick_sort(left_side) + [pivot] + quick_sort(right_side)\n",
    "print(quick_sort(array))"
   ]
  },
  {
   "cell_type": "code",
   "execution_count": 5,
   "metadata": {},
   "outputs": [
    {
     "name": "stdout",
     "output_type": "stream",
     "text": [
      "0 0 1 1 2 2 3 4 5 5 6 7 8 9 9 "
     ]
    }
   ],
   "source": [
    "# 계수 정렬\n",
    "\n",
    "array = [7,5,9,0,3,1,6,2,9,1,4,8,0,5,2]\n",
    "\n",
    "count = [0] * (max(array)+1)\n",
    "\n",
    "for i in range(len(array)):\n",
    "  count[array[i]] += 1\n",
    "\n",
    "for i in range(len(count)):\n",
    "  for j in range(count[i]):\n",
    "    print(i, end = \" \")"
   ]
  },
  {
   "cell_type": "code",
   "execution_count": 6,
   "metadata": {},
   "outputs": [
    {
     "name": "stdout",
     "output_type": "stream",
     "text": [
      "[('당근', 3), ('바나나', 2), ('사과', 5)]\n"
     ]
    }
   ],
   "source": [
    "# 기본 정렬 라이브러리\n",
    "array = [('바나나', 2), ('사과', 5), ('당근', 3)]\n",
    "\n",
    "def setting(data):\n",
    "  return data[0]\n",
    "\n",
    "result = sorted(array, key = setting)\n",
    "print(result)"
   ]
  },
  {
   "cell_type": "code",
   "execution_count": 7,
   "metadata": {},
   "outputs": [
    {
     "name": "stdout",
     "output_type": "stream",
     "text": [
      "3\n",
      "1 2 3\n"
     ]
    },
    {
     "ename": "ValueError",
     "evalue": "invalid literal for int() with base 10: '1 2 3'",
     "output_type": "error",
     "traceback": [
      "\u001b[1;31m---------------------------------------------------------------------------\u001b[0m",
      "\u001b[1;31mValueError\u001b[0m                                Traceback (most recent call last)",
      "\u001b[1;32m<ipython-input-7-fa5ded3c54e5>\u001b[0m in \u001b[0;36m<module>\u001b[1;34m\u001b[0m\n\u001b[0;32m      5\u001b[0m \u001b[1;33m\u001b[0m\u001b[0m\n\u001b[0;32m      6\u001b[0m \u001b[1;32mfor\u001b[0m \u001b[0mi\u001b[0m \u001b[1;32min\u001b[0m \u001b[0mrange\u001b[0m\u001b[1;33m(\u001b[0m\u001b[0mn\u001b[0m\u001b[1;33m)\u001b[0m\u001b[1;33m:\u001b[0m\u001b[1;33m\u001b[0m\u001b[1;33m\u001b[0m\u001b[0m\n\u001b[1;32m----> 7\u001b[1;33m   \u001b[0mnum_list\u001b[0m\u001b[1;33m.\u001b[0m\u001b[0mappend\u001b[0m\u001b[1;33m(\u001b[0m\u001b[0mint\u001b[0m\u001b[1;33m(\u001b[0m\u001b[0minput\u001b[0m\u001b[1;33m(\u001b[0m\u001b[1;34m\"\"\u001b[0m\u001b[1;33m)\u001b[0m\u001b[1;33m)\u001b[0m\u001b[1;33m)\u001b[0m\u001b[1;33m\u001b[0m\u001b[1;33m\u001b[0m\u001b[0m\n\u001b[0m\u001b[0;32m      8\u001b[0m \u001b[1;33m\u001b[0m\u001b[0m\n\u001b[0;32m      9\u001b[0m \u001b[0mnum_list\u001b[0m \u001b[1;33m=\u001b[0m \u001b[0msorted\u001b[0m\u001b[1;33m(\u001b[0m\u001b[0mnum_list\u001b[0m\u001b[1;33m,\u001b[0m\u001b[0mreverse\u001b[0m\u001b[1;33m=\u001b[0m\u001b[1;32mTrue\u001b[0m\u001b[1;33m)\u001b[0m\u001b[1;33m\u001b[0m\u001b[1;33m\u001b[0m\u001b[0m\n",
      "\u001b[1;31mValueError\u001b[0m: invalid literal for int() with base 10: '1 2 3'"
     ]
    }
   ],
   "source": [
    "# 실전문제 2 15:10~15:13\n",
    "\n",
    "n = int(input(\"\"))\n",
    "num_list = []\n",
    "\n",
    "for i in range(n):\n",
    "  num_list.append(int(input(\"\")))\n",
    "\n",
    "num_list = sorted(num_list,reverse=True)\n",
    "print(num_list)"
   ]
  },
  {
   "cell_type": "code",
   "execution_count": 8,
   "metadata": {},
   "outputs": [
    {
     "name": "stdout",
     "output_type": "stream",
     "text": [
      "\n"
     ]
    },
    {
     "ename": "ValueError",
     "evalue": "invalid literal for int() with base 10: ''",
     "output_type": "error",
     "traceback": [
      "\u001b[1;31m---------------------------------------------------------------------------\u001b[0m",
      "\u001b[1;31mValueError\u001b[0m                                Traceback (most recent call last)",
      "\u001b[1;32m<ipython-input-8-b66b3bdff881>\u001b[0m in \u001b[0;36m<module>\u001b[1;34m\u001b[0m\n\u001b[0;32m      1\u001b[0m \u001b[1;31m# 실전문제 3 15:16 ~15:28\u001b[0m\u001b[1;33m\u001b[0m\u001b[1;33m\u001b[0m\u001b[1;33m\u001b[0m\u001b[0m\n\u001b[1;32m----> 2\u001b[1;33m \u001b[0mn\u001b[0m \u001b[1;33m=\u001b[0m \u001b[0mint\u001b[0m\u001b[1;33m(\u001b[0m\u001b[0minput\u001b[0m\u001b[1;33m(\u001b[0m\u001b[1;33m)\u001b[0m\u001b[1;33m)\u001b[0m\u001b[1;33m\u001b[0m\u001b[1;33m\u001b[0m\u001b[0m\n\u001b[0m\u001b[0;32m      3\u001b[0m \u001b[0mstu_list\u001b[0m \u001b[1;33m=\u001b[0m \u001b[1;33m[\u001b[0m\u001b[1;33m]\u001b[0m\u001b[1;33m\u001b[0m\u001b[1;33m\u001b[0m\u001b[0m\n\u001b[0;32m      4\u001b[0m \u001b[1;33m\u001b[0m\u001b[0m\n\u001b[0;32m      5\u001b[0m \u001b[1;32mfor\u001b[0m \u001b[0mi\u001b[0m \u001b[1;32min\u001b[0m \u001b[0mrange\u001b[0m\u001b[1;33m(\u001b[0m\u001b[0mn\u001b[0m\u001b[1;33m)\u001b[0m\u001b[1;33m:\u001b[0m\u001b[1;33m\u001b[0m\u001b[1;33m\u001b[0m\u001b[0m\n",
      "\u001b[1;31mValueError\u001b[0m: invalid literal for int() with base 10: ''"
     ]
    }
   ],
   "source": [
    "# 실전문제 3 15:16 ~15:28\n",
    "n = int(input())\n",
    "stu_list = []\n",
    "\n",
    "for i in range(n):\n",
    "  stu_list.append(list(input(\"\").split(\" \")))\n",
    "\n",
    "def setting(data):\n",
    "  return int(data[1])\n",
    "stu_list_sorted = sorted(stu_list, key = setting)\n",
    "print(stu_list_sorted)\n",
    "print([i[0] for i in stu_list_sorted])"
   ]
  },
  {
   "cell_type": "code",
   "execution_count": 9,
   "metadata": {},
   "outputs": [],
   "source": [
    "# collections에 있는 모듈들 참고하기"
   ]
  },
  {
   "cell_type": "code",
   "execution_count": 24,
   "metadata": {},
   "outputs": [
    {
     "name": "stdout",
     "output_type": "stream",
     "text": [
      "5 3\n",
      "1 2 5 4 3\n",
      "5 5 6 6 5\n",
      "26\n",
      "[6, 6, 5, 4, 5] [1, 2, 3, 5, 5]\n"
     ]
    }
   ],
   "source": [
    "# 실전문제 4 23:20 ~ 23:33\n",
    "\n",
    "N, K = input(\"\").split()\n",
    "a_list = list(map(int,input(\"\").split()))\n",
    "b_list = list(map(int,input(\"\").split()))\n",
    "\n",
    "a_list = sorted(a_list)\n",
    "b_list = sorted(b_list, reverse = True)\n",
    "change_list = []\n",
    "\n",
    "for n in range(int(K)):\n",
    "    if a_list[n] >= b_list[n]:\n",
    "        break # 반복문 탈출\n",
    "    else:\n",
    "        a_list[n], b_list[n] = b_list[n], a_list[n]\n",
    "print(sum(a_list))\n",
    "print(a_list,b_list)"
   ]
  },
  {
   "cell_type": "code",
   "execution_count": null,
   "metadata": {},
   "outputs": [],
   "source": []
  }
 ],
 "metadata": {
  "kernelspec": {
   "display_name": "Python 3",
   "language": "python",
   "name": "python3"
  },
  "language_info": {
   "codemirror_mode": {
    "name": "ipython",
    "version": 3
   },
   "file_extension": ".py",
   "mimetype": "text/x-python",
   "name": "python",
   "nbconvert_exporter": "python",
   "pygments_lexer": "ipython3",
   "version": "3.8.5"
  }
 },
 "nbformat": 4,
 "nbformat_minor": 4
}
