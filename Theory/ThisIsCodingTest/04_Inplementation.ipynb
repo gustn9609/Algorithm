{
 "cells": [
  {
   "cell_type": "code",
   "execution_count": 1,
   "metadata": {},
   "outputs": [],
   "source": [
    "# N개의 원소가 들어있는 리스트에서 R개의 원소를 뽑아 한 줄로 세우는 경우를 구하라."
   ]
  },
  {
   "cell_type": "code",
   "execution_count": 7,
   "metadata": {},
   "outputs": [
    {
     "name": "stdout",
     "output_type": "stream",
     "text": [
      "5 3\n",
      "1 2 3 4 5\n",
      "[(1, 2, 3), (1, 2, 4), (1, 2, 5), (1, 3, 2), (1, 3, 4), (1, 3, 5), (1, 4, 2), (1, 4, 3), (1, 4, 5), (1, 5, 2), (1, 5, 3), (1, 5, 4), (2, 1, 3), (2, 1, 4), (2, 1, 5), (2, 3, 1), (2, 3, 4), (2, 3, 5), (2, 4, 1), (2, 4, 3), (2, 4, 5), (2, 5, 1), (2, 5, 3), (2, 5, 4), (3, 1, 2), (3, 1, 4), (3, 1, 5), (3, 2, 1), (3, 2, 4), (3, 2, 5), (3, 4, 1), (3, 4, 2), (3, 4, 5), (3, 5, 1), (3, 5, 2), (3, 5, 4), (4, 1, 2), (4, 1, 3), (4, 1, 5), (4, 2, 1), (4, 2, 3), (4, 2, 5), (4, 3, 1), (4, 3, 2), (4, 3, 5), (4, 5, 1), (4, 5, 2), (4, 5, 3), (5, 1, 2), (5, 1, 3), (5, 1, 4), (5, 2, 1), (5, 2, 3), (5, 2, 4), (5, 3, 1), (5, 3, 2), (5, 3, 4), (5, 4, 1), (5, 4, 2), (5, 4, 3)]\n"
     ]
    }
   ],
   "source": [
    "import itertools\n",
    "N, R = map(int,input(\"\").split())\n",
    "a_list = list(map(int,input(\"\").split()))\n",
    "\n",
    "nPr = itertools.permutations(a_list, R)\n",
    "print(list(nPr))"
   ]
  },
  {
   "cell_type": "code",
   "execution_count": 16,
   "metadata": {},
   "outputs": [
    {
     "name": "stdout",
     "output_type": "stream",
     "text": [
      "5 \n",
      "R R R U D D\n",
      "3 4\n"
     ]
    }
   ],
   "source": [
    "# 예제 4-1\n",
    "N = int(input(\"\"))\n",
    "a_list = list(input(\"\").split())\n",
    "starting = [1,1]\n",
    "\n",
    "for i in a_list:\n",
    "    if i == \"L\" and starting[1] != 1:\n",
    "        starting[1] -= 1\n",
    "    elif i == \"R\" and starting[1] <= N:\n",
    "        starting[1] += 1\n",
    "    elif i == \"U\" and starting[0] != 1:\n",
    "        starting[0] -= 1\n",
    "    elif i == \"D\" and starting[0] <= N:\n",
    "        starting[0] += 1\n",
    "\n",
    "print(starting[0],starting[1])"
   ]
  },
  {
   "cell_type": "code",
   "execution_count": 30,
   "metadata": {},
   "outputs": [
    {
     "name": "stdout",
     "output_type": "stream",
     "text": [
      "5\n",
      "real_time[2] operating\n",
      "0\n",
      "real_time[2] operating\n",
      "0\n",
      "real_time[2] operating\n",
      "0\n",
      "real_time[2] operating\n",
      "1\n",
      "real_time[2] operating\n",
      "1\n",
      "real_time[2] operating\n",
      "1\n",
      "real_time[2] operating\n",
      "1\n",
      "real_time[2] operating\n",
      "1\n",
      "real_time[2] operating\n",
      "1\n",
      "real_time[2] operating\n",
      "1\n",
      "real_time[2] operating\n",
      "1\n",
      "real_time[2] operating\n",
      "1\n",
      "real_time[2] operating\n",
      "1\n",
      "real_time[2] operating\n",
      "2\n",
      "real_time[2] operating\n",
      "2\n",
      "real_time[2] operating\n",
      "2\n",
      "real_time[2] operating\n",
      "2\n",
      "real_time[2] operating\n",
      "2\n",
      "real_time[2] operating\n",
      "2\n",
      "real_time[2] operating\n",
      "2\n",
      "real_time[2] operating\n",
      "2\n",
      "real_time[2] operating\n",
      "2\n",
      "real_time[2] operating\n",
      "2\n",
      "real_time[2] operating\n",
      "3\n",
      "real_time[2] operating\n",
      "3\n",
      "real_time[2] operating\n",
      "3\n",
      "real_time[2] operating\n",
      "3\n",
      "real_time[2] operating\n",
      "3\n",
      "real_time[2] operating\n",
      "3\n",
      "real_time[2] operating\n",
      "3\n",
      "real_time[2] operating\n",
      "4\n",
      "real_time[2] operating\n",
      "5\n",
      "real_time[2] operating\n",
      "6\n",
      "real_time[2] operating\n",
      "7\n",
      "real_time[2] operating\n",
      "8\n",
      "real_time[2] operating\n",
      "9\n",
      "real_time[2] operating\n",
      "10\n",
      "real_time[2] operating\n",
      "11\n",
      "real_time[2] operating\n",
      "12\n",
      "real_time[2] operating\n",
      "13\n",
      "real_time[2] operating\n",
      "13\n",
      "real_time[2] operating\n",
      "13\n",
      "real_time[2] operating\n",
      "13\n",
      "real_time[2] operating\n",
      "14\n",
      "real_time[2] operating\n",
      "14\n",
      "real_time[2] operating\n",
      "14\n",
      "real_time[2] operating\n",
      "14\n",
      "real_time[2] operating\n",
      "14\n",
      "real_time[2] operating\n",
      "14\n",
      "real_time[2] operating\n",
      "14\n",
      "real_time[2] operating\n",
      "14\n",
      "real_time[2] operating\n",
      "14\n",
      "real_time[2] operating\n",
      "14\n",
      "real_time[2] operating\n",
      "15\n",
      "real_time[2] operating\n",
      "15\n",
      "real_time[2] operating\n",
      "15\n",
      "real_time[2] operating\n",
      "15\n",
      "real_time[2] operating\n",
      "15\n",
      "real_time[2] operating\n",
      "15\n",
      "real_time[2] operating\n",
      "15\n",
      "real_time[0] operating\n",
      "0\n",
      "real_time[0] operating\n",
      "0\n",
      "real_time[0] operating\n",
      "0\n",
      "real_time[0] operating\n",
      "1\n",
      "real_time[0] operating\n",
      "1\n",
      "real_time[0] operating\n",
      "1\n",
      "225\n"
     ]
    }
   ],
   "source": [
    "# 예제 4-2 23:50~00:05 -> 틀림\n",
    "\n",
    "N = int(input(\"\"))\n",
    "time_list = [N, 59, 59]\n",
    "real_time = [0,0,0]\n",
    "count_1 = 0\n",
    "count_2 = 0\n",
    "while real_time[2] < 60:\n",
    "    print(\"real_time[2] operating\")\n",
    "    if \"3\" in str(real_time[2]):\n",
    "        count_1 += 1\n",
    "    real_time[2] += 1\n",
    "    print(count_1)\n",
    "while real_time[0] <= N:\n",
    "    print(\"real_time[0] operating\")\n",
    "    if \"3\" in str(real_time[0]):\n",
    "        count_2 += 1\n",
    "    real_time[0] += 1\n",
    "    print(count_2)\n",
    "print(count_2*3600 + count_10)"
   ]
  },
  {
   "cell_type": "code",
   "execution_count": 31,
   "metadata": {},
   "outputs": [
    {
     "name": "stdout",
     "output_type": "stream",
     "text": [
      "5\n",
      "11475\n"
     ]
    }
   ],
   "source": [
    "# 예제 4-2 정답\n",
    "h = int(input())\n",
    "\n",
    "count = 0\n",
    "for i in range(h+1):\n",
    "    for j in range(60):\n",
    "        for k in range(60):\n",
    "            if '3' in str(i) + str(j) + str(k):\n",
    "                count += 1\n",
    "print(count)"
   ]
  },
  {
   "cell_type": "code",
   "execution_count": 48,
   "metadata": {},
   "outputs": [
    {
     "name": "stdout",
     "output_type": "stream",
     "text": [
      "a1\n",
      "2\n"
     ]
    }
   ],
   "source": [
    "# 실전문제 2 00:18 ~ 00:34 18분\n",
    "a = 97\n",
    "h = 104\n",
    "place = input(\"\")\n",
    "cando = [[1,2],[2,1],[1,-2],[2,-1],[-1,-2],[-2,-1],[-1,2],[-2,1]]\n",
    "count = 0\n",
    "\n",
    "for do in cando:\n",
    "    where = [0,0]\n",
    "    where[0] = ord(place[0]) + do[0]\n",
    "    where[1] = int(place[1]) + do[1]\n",
    "    if where[0]>=97 and where[0]<=104 and where[1]>=1 and where[1]<=8:\n",
    "        count+=1\n",
    "print(count)"
   ]
  },
  {
   "cell_type": "code",
   "execution_count": 49,
   "metadata": {},
   "outputs": [
    {
     "name": "stdout",
     "output_type": "stream",
     "text": [
      "4 4\n",
      "1 1 0\n",
      "1 1 1 1\n",
      "1 0 0 1\n",
      "1 1 0 1\n",
      "1 1 1 1\n",
      "[[1, 1, 1, 1], [1, 0, 0, 1], [1, 1, 0, 1], [1, 1, 1, 1]]\n"
     ]
    }
   ],
   "source": [
    "# 실전문제 3 00:36 ~ 01:00 -> 다시풀어보기(틀림)\n",
    "N,M = map(int,input(\"\").split())\n",
    "char_x,char_y,look = map(int,input(\"\").split())\n",
    "maps = []\n",
    "for i in range(N):\n",
    "    maps.append(list(map(int,input(\"\").split())))\n",
    "print(maps)\n",
    "gone = []\n"
   ]
  },
  {
   "cell_type": "code",
   "execution_count": 57,
   "metadata": {},
   "outputs": [
    {
     "name": "stdout",
     "output_type": "stream",
     "text": [
      "c\n",
      "a\n",
      "n\n",
      "_\n",
      "g\n",
      "o\n",
      "_\n",
      "0\n"
     ]
    }
   ],
   "source": [
    "can_go_0 = [(1,0),(0,-1),(-1,0),(0,1)]\n",
    "can_go_1 = [(0,1),(1,0),(0,-1),(-1,0)]\n",
    "can_go_2 = [(-1,0),(0,1),(1,0),(0,-1)]\n",
    "can_go_3 = [(0,-1),(-1,0),(0,1),(1,0)]\n",
    "for go in range(4):\n",
    "    can_go[look]\n",
    "#     where = (char_x,char_y)"
   ]
  },
  {
   "cell_type": "code",
   "execution_count": null,
   "metadata": {},
   "outputs": [],
   "source": []
  }
 ],
 "metadata": {
  "kernelspec": {
   "display_name": "Python 3",
   "language": "python",
   "name": "python3"
  },
  "language_info": {
   "codemirror_mode": {
    "name": "ipython",
    "version": 3
   },
   "file_extension": ".py",
   "mimetype": "text/x-python",
   "name": "python",
   "nbconvert_exporter": "python",
   "pygments_lexer": "ipython3",
   "version": "3.8.5"
  }
 },
 "nbformat": 4,
 "nbformat_minor": 4
}
