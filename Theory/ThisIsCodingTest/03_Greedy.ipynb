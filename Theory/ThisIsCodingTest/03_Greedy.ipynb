{
 "cells": [
  {
   "cell_type": "code",
   "execution_count": 1,
   "metadata": {},
   "outputs": [
    {
     "name": "stdout",
     "output_type": "stream",
     "text": [
      "0.0\n"
     ]
    }
   ],
   "source": [
    "import time\n",
    "start_time = time.time()\n",
    "\n",
    "end_time = time.time()\n",
    "\n",
    "print(end_time-start_time)"
   ]
  },
  {
   "cell_type": "code",
   "execution_count": 7,
   "metadata": {},
   "outputs": [
    {
     "name": "stdout",
     "output_type": "stream",
     "text": [
      "얼마를 거슬러 줘야합니까? : 8430\n",
      "23\n",
      "0.0\n"
     ]
    }
   ],
   "source": [
    "# 예제 3-1\n",
    "N = int(input(\"얼마를 거슬러 줘야합니까? : \"))\n",
    "\n",
    "start_time = time.time()\n",
    "cnt_500 = int(N/500)\n",
    "cnt_100 = int(N%500/100)\n",
    "cnt_50 = int(N%500%100/50)\n",
    "cnt_10 = int(N%500%100%50/10)\n",
    "\n",
    "print(cnt_500+cnt_100+cnt_50+cnt_10)\n",
    "end_time = time.time()\n",
    "print(end_time-start_time)"
   ]
  },
  {
   "cell_type": "code",
   "execution_count": 8,
   "metadata": {},
   "outputs": [
    {
     "name": "stdout",
     "output_type": "stream",
     "text": [
      "얼마를 거슬러 줘야합니까? : 8430\n",
      "23\n",
      "0.0\n"
     ]
    }
   ],
   "source": [
    "# 예제 3-1 답안 예시\n",
    "N = int(input(\"얼마를 거슬러 줘야합니까? : \"))\n",
    "\n",
    "start_time = time.time()\n",
    "count = 0\n",
    "\n",
    "coin_types = [500,100,50,10]\n",
    "\n",
    "for coin in coin_types:\n",
    "    count += N // coin\n",
    "    N %= coin\n",
    "\n",
    "print(count)\n",
    "end_time = time.time()\n",
    "print(end_time-start_time)"
   ]
  },
  {
   "cell_type": "code",
   "execution_count": 53,
   "metadata": {
    "scrolled": true
   },
   "outputs": [
    {
     "name": "stdout",
     "output_type": "stream",
     "text": [
      "N,M,K를 입력하세요:5 8 3\n",
      "5개의 자연수를 입력하세요:2 4 5 4 6\n",
      "46\n",
      "0.0\n"
     ]
    }
   ],
   "source": [
    "# 실전문제 1 55분\n",
    "N, M, K = map(int,input(\"N,M,K를 입력하세요:\").split(\" \"))\n",
    "\n",
    "num_list = list(map(int,input(f\"{N}개의 자연수를 입력하세요:\").split(\" \")))\n",
    "\n",
    "start_time = time.time()\n",
    "num_list.sort(reverse = True)\n",
    "\n",
    "first = num_list[0]\n",
    "second = num_list[1]\n",
    "\n",
    "answer = 0\n",
    "m = 0\n",
    "k = 0\n",
    "while m < M:\n",
    "    while k < K:\n",
    "        answer += first\n",
    "        k += 1\n",
    "        m += 1\n",
    "    if m <= M:\n",
    "        answer += second\n",
    "        m += 1\n",
    "        k = 0\n",
    "\n",
    "print(answer)\n",
    "end_time = time.time()\n",
    "print(end_time-start_time)\n",
    "\n",
    "\n"
   ]
  },
  {
   "cell_type": "code",
   "execution_count": 54,
   "metadata": {},
   "outputs": [
    {
     "name": "stdout",
     "output_type": "stream",
     "text": [
      "5 8 3\n",
      "2 4 5 4 6\n",
      "46\n",
      "0.0\n"
     ]
    }
   ],
   "source": [
    "# 실전문제 1 예시답안1\n",
    "n, m, k = map(int,input().split())\n",
    "data = list(map(int,input().split()))\n",
    "start_time = time.time()\n",
    "\n",
    "data.sort()\n",
    "first = data[n-1]\n",
    "second = data[n-2]\n",
    "\n",
    "\n",
    "result = 0\n",
    "\n",
    "while True:\n",
    "    for i in range(k):\n",
    "        if m == 0:\n",
    "            break\n",
    "        result += first\n",
    "        m -= 1\n",
    "    if m == 0:\n",
    "        break\n",
    "    result += second\n",
    "    m -= 1\n",
    "    \n",
    "print(result)\n",
    "end_time = time.time()\n",
    "print(end_time-start_time)"
   ]
  },
  {
   "cell_type": "code",
   "execution_count": 52,
   "metadata": {},
   "outputs": [
    {
     "name": "stdout",
     "output_type": "stream",
     "text": [
      "5 8 3\n",
      "2 4 5 4 6\n",
      "46\n"
     ]
    }
   ],
   "source": [
    "# 실전문제 1 예시답안2\n",
    "n, m, k = map(int,input().split())\n",
    "data = list(map(int,input().split()))\n",
    "start_time = time.time()\n",
    "\n",
    "data.sort()\n",
    "first = data[n-1]\n",
    "second = data[n-2]\n",
    "\n",
    "count = int(m/ (k+1)) * k + m%(k+1)\n",
    "count += m % (k+1)\n",
    "\n",
    "result = 0\n",
    "result += (count) * first\n",
    "result += (m - count) * second\n",
    "\n",
    "print(result)\n",
    "end_time = time.time()\n",
    "print(end_time-start_time)"
   ]
  },
  {
   "cell_type": "code",
   "execution_count": 65,
   "metadata": {},
   "outputs": [
    {
     "name": "stdout",
     "output_type": "stream",
     "text": [
      "4 3\n",
      "1 2 3 4\n",
      "2 3 4 5\n",
      "3 4 5 6\n",
      "8 9 12 111\n"
     ]
    },
    {
     "data": {
      "text/plain": [
       "8"
      ]
     },
     "execution_count": 65,
     "metadata": {},
     "output_type": "execute_result"
    }
   ],
   "source": [
    "# 실전문제 2 7분\n",
    "N, M = map(int,input().split())\n",
    "\n",
    "a = []\n",
    "for i in range(N):\n",
    "    the_list = list(map(int,input().split()))\n",
    "    k = min(the_list)\n",
    "    a.append(k)\n",
    "max(a)"
   ]
  },
  {
   "cell_type": "code",
   "execution_count": 98,
   "metadata": {},
   "outputs": [
    {
     "name": "stdout",
     "output_type": "stream",
     "text": [
      "9 3\n",
      "3.0\n",
      "2\n"
     ]
    }
   ],
   "source": [
    "# 실전문제 3 18:03~18:18 / 15분\n",
    "N , K = map(int, input().split())\n",
    "answer = 0\n",
    "while N > 1:\n",
    "    if N % K == 0:\n",
    "        N = N / K\n",
    "        answer += 1\n",
    "        if N == 1:\n",
    "            break\n",
    "    else:\n",
    "        N -= 1\n",
    "        answer += 1\n",
    "    print(N)\n",
    "print(answer)\n"
   ]
  },
  {
   "cell_type": "code",
   "execution_count": null,
   "metadata": {},
   "outputs": [],
   "source": []
  }
 ],
 "metadata": {
  "kernelspec": {
   "display_name": "Python 3",
   "language": "python",
   "name": "python3"
  },
  "language_info": {
   "codemirror_mode": {
    "name": "ipython",
    "version": 3
   },
   "file_extension": ".py",
   "mimetype": "text/x-python",
   "name": "python",
   "nbconvert_exporter": "python",
   "pygments_lexer": "ipython3",
   "version": "3.8.5"
  }
 },
 "nbformat": 4,
 "nbformat_minor": 4
}
