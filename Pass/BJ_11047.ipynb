{
 "cells": [
  {
   "cell_type": "code",
   "execution_count": 90,
   "metadata": {},
   "outputs": [
    {
     "name": "stdout",
     "output_type": "stream",
     "text": [
      "10 4790\n",
      "1\n",
      "5\n",
      "10\n",
      "50\n",
      "100\n",
      "500\n",
      "1000\n",
      "5000\n",
      "10000\n",
      "50000\n",
      "12\n"
     ]
    }
   ],
   "source": [
    "# 11047번\n",
    "N, K = input(\"\").split(\" \")\n",
    "coin_list = []\n",
    "for i in range(int(N)):\n",
    "    coin_list.append(int(input(\"\")))\n",
    "\n",
    "for n, coin in enumerate(coin_list):\n",
    "    if (int(coin) - int(K)) > 0:\n",
    "        max_coin_idx = n-1\n",
    "        break\n",
    "\n",
    "coin_list = sorted(coin_list[:max_coin_idx+1],reverse=True)\n",
    "\n",
    "answer = 0\n",
    "for coin in coin_list:\n",
    "    answer += divmod(int(K),coin)[0]\n",
    "    K = divmod(int(K),coin)[1]\n",
    "print(answer)\n",
    "\n",
    "### 1차 제출 -> 런타임 에러\n",
    "### for문이 너무 많은 것 같다."
   ]
  },
  {
   "cell_type": "code",
   "execution_count": 91,
   "metadata": {},
   "outputs": [
    {
     "name": "stdout",
     "output_type": "stream",
     "text": [
      "10 4200\n",
      "1\n",
      "5\n",
      "10\n",
      "50\n",
      "100\n",
      "500\n",
      "1000\n",
      "5000\n",
      "10000\n",
      "50000\n",
      "6\n"
     ]
    }
   ],
   "source": [
    "N, K = input(\"\").split(\" \")\n",
    "coin_list = []\n",
    "for i in range(int(N)):\n",
    "    coin_list.append(int(input(\"\")))\n",
    "\n",
    "coin_list = sorted(coin_list,reverse=True)\n",
    "\n",
    "answer = 0\n",
    "for coin in coin_list:\n",
    "    answer += divmod(int(K),coin)[0]\n",
    "    K = divmod(int(K),coin)[1]\n",
    "print(answer)\n",
    "\n",
    "# 정답!\n",
    "# 굳이 max_coin_idx를 구할 필요가 없었다"
   ]
  },
  {
   "cell_type": "code",
   "execution_count": 2,
   "metadata": {},
   "outputs": [
    {
     "name": "stdout",
     "output_type": "stream",
     "text": [
      "10 4200\n"
     ]
    }
   ],
   "source": [
    "N, K = input(\"\").split(\" \")\n",
    "coin_list = []\n",
    "\n",
    "N = 10\n",
    "K = 4200"
   ]
  },
  {
   "cell_type": "code",
   "execution_count": null,
   "metadata": {},
   "outputs": [],
   "source": []
  }
 ],
 "metadata": {
  "kernelspec": {
   "display_name": "Python 3",
   "language": "python",
   "name": "python3"
  },
  "language_info": {
   "codemirror_mode": {
    "name": "ipython",
    "version": 3
   },
   "file_extension": ".py",
   "mimetype": "text/x-python",
   "name": "python",
   "nbconvert_exporter": "python",
   "pygments_lexer": "ipython3",
   "version": "3.8.5"
  }
 },
 "nbformat": 4,
 "nbformat_minor": 4
}
