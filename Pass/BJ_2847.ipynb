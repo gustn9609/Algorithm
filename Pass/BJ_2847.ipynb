{
 "cells": [
  {
   "cell_type": "code",
   "execution_count": 65,
   "metadata": {},
   "outputs": [
    {
     "name": "stdout",
     "output_type": "stream",
     "text": [
      "3\n",
      "5\n",
      "5\n",
      "5\n",
      "[5, 5, 5]\n",
      "0\n",
      "[5, 5, 5]\n",
      "3\n"
     ]
    }
   ],
   "source": [
    "N = int(input(\"\"))\n",
    "lst = []\n",
    "for i in range(N):\n",
    "    lst.append(int(input(\"\")))\n",
    "lst = lst[::-1]\n",
    "answer = 0\n",
    "for i in range(len(lst)-1):\n",
    "    sub = 0\n",
    "    if lst[i] < lst[i+1]:\n",
    "        answer += lst[i+1] - lst[i]\n",
    "        lst[i+1] = lst[i]\n",
    "    else:\n",
    "        sub += 1\n",
    "for i in set(lst):\n",
    "    n = lst.count(i)-1\n",
    "    answer += int(n*(n+1)/2)\n",
    "print(answer)"
   ]
  }
 ],
 "metadata": {
  "kernelspec": {
   "display_name": "Python 3",
   "language": "python",
   "name": "python3"
  },
  "language_info": {
   "codemirror_mode": {
    "name": "ipython",
    "version": 3
   },
   "file_extension": ".py",
   "mimetype": "text/x-python",
   "name": "python",
   "nbconvert_exporter": "python",
   "pygments_lexer": "ipython3",
   "version": "3.8.5"
  }
 },
 "nbformat": 4,
 "nbformat_minor": 4
}
