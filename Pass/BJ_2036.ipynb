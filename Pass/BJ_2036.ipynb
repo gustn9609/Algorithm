{
 "cells": [
  {
   "cell_type": "code",
   "execution_count": 3,
   "metadata": {},
   "outputs": [
    {
     "name": "stdout",
     "output_type": "stream",
     "text": [
      "5\n",
      "-1\n",
      "5\n",
      "-3\n",
      "5\n",
      "1\n"
     ]
    }
   ],
   "source": [
    "N = int(input(\"\"))\n",
    "num_list=[]\n",
    "for i in range(N):\n",
    "    num_list.append(int(input(\"\")))\n",
    "\n",
    "sort_list = sorted(num_list,reverse=True)\n",
    "plus = []\n",
    "minus = []\n",
    "for num in sort_list:\n",
    "    if num > 0:\n",
    "        plus.append(num)\n",
    "    else:\n",
    "        minus.append(num)\n",
    "\n",
    "answer = 0\n",
    "while len(plus)>1:\n",
    "    answer += plus[0]*plus[1]\n",
    "    del plus[0]\n",
    "    del plus[0]\n",
    "while len(minus)>1:\n",
    "    answer += minus[0]*minus[1]\n",
    "    del minus[0]\n",
    "    del minus[0]\n",
    "if plus:\n",
    "    answer += plus[0]\n",
    "if minus:\n",
    "    answer += minus[0]\n",
    "print(answer)\n",
    "\n",
    "# 틀림"
   ]
  },
  {
   "cell_type": "code",
   "execution_count": 47,
   "metadata": {},
   "outputs": [
    {
     "name": "stdout",
     "output_type": "stream",
     "text": [
      "1\n",
      "1\n",
      "1\n"
     ]
    }
   ],
   "source": [
    "N = int(input(\"\"))\n",
    "num_list=[]\n",
    "for i in range(N):\n",
    "    num_list.append(int(input(\"\")))\n",
    "\n",
    "sort_list = sorted(num_list,reverse=True)\n",
    "plus = []\n",
    "minus = []\n",
    "for num in sort_list:\n",
    "    if num > 0:\n",
    "        plus.append(num)\n",
    "    else:\n",
    "        minus.append(num)\n",
    "minus = minus[::-1]\n",
    "answer = 0\n",
    "while len(plus)>1:\n",
    "    answer += plus[0]*plus[1]\n",
    "    del plus[0]\n",
    "    del plus[0]\n",
    "while len(minus)>1:\n",
    "    answer += minus[0]*minus[1]\n",
    "    del minus[0]\n",
    "    del minus[0]\n",
    "if plus:\n",
    "    answer += plus[0]\n",
    "if minus:\n",
    "    answer += minus[0]\n",
    "print(answer)\n",
    "\n",
    "# 틀림\n",
    "\n"
   ]
  },
  {
   "cell_type": "code",
   "execution_count": 60,
   "metadata": {},
   "outputs": [
    {
     "data": {
      "text/plain": [
       "50"
      ]
     },
     "execution_count": 60,
     "metadata": {},
     "output_type": "execute_result"
    }
   ],
   "source": [
    "N = int(input(\"\"))\n",
    "num_list=[]\n",
    "for i in range(N):\n",
    "    num_list.append(int(input(\"\")))\n",
    "\n",
    "sort_list = sorted(num_list,reverse=True)\n",
    "answer = 0\n",
    "plus = []\n",
    "minus = []\n",
    "for num in sort_list:\n",
    "    if num == 1:\n",
    "        answer+=1\n",
    "    elif num > 1:\n",
    "        plus.append(num)\n",
    "    else:\n",
    "        minus.append(num)\n",
    "minus = minus[::-1]\n",
    "while len(plus)>1:\n",
    "    answer += plus[0]*plus[1]\n",
    "    del plus[0]\n",
    "    del plus[0]\n",
    "while len(minus)>1:\n",
    "    answer += minus[0]*minus[1]\n",
    "    del minus[0]\n",
    "    del minus[0]\n",
    "if plus:\n",
    "    answer += plus[0]\n",
    "if minus:\n",
    "    answer += minus[0]\n",
    "print(answer)\n",
    "# 정답"
   ]
  },
  {
   "cell_type": "code",
   "execution_count": null,
   "metadata": {},
   "outputs": [],
   "source": []
  }
 ],
 "metadata": {
  "kernelspec": {
   "display_name": "Python 3",
   "language": "python",
   "name": "python3"
  },
  "language_info": {
   "codemirror_mode": {
    "name": "ipython",
    "version": 3
   },
   "file_extension": ".py",
   "mimetype": "text/x-python",
   "name": "python",
   "nbconvert_exporter": "python",
   "pygments_lexer": "ipython3",
   "version": "3.8.5"
  }
 },
 "nbformat": 4,
 "nbformat_minor": 4
}
