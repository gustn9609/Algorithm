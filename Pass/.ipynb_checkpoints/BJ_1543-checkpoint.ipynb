{
 "cells": [
  {
   "cell_type": "code",
   "execution_count": 6,
   "metadata": {},
   "outputs": [
    {
     "name": "stdout",
     "output_type": "stream",
     "text": [
      "aabb\n",
      "ab\n",
      "1\n"
     ]
    }
   ],
   "source": [
    "N = input(\"\")\n",
    "k = input(\"\")\n",
    "print(N.count(k))"
   ]
  },
  {
   "cell_type": "code",
   "execution_count": 7,
   "metadata": {},
   "outputs": [
    {
     "name": "stdout",
     "output_type": "stream",
     "text": [
      "4\n",
      "0\n",
      "111:  1\n",
      "111:  2\n",
      "2\n",
      "222:  1\n",
      "222:  3\n",
      "3\n",
      "111:  2\n",
      "111:  5\n",
      "2\n"
     ]
    }
   ],
   "source": [
    "doc = \"abcabc\"\n",
    "word = \"ab\"\n",
    "count = 0\n",
    "i = 0\n",
    "print(len(doc) - len(word))\n",
    "while i <= len(doc) - len(word):\n",
    "    print(i)\n",
    "    if doc[i:i + len(word)] == word:\n",
    "        count += 1\n",
    "        i += len(word) # 단어의 길이만큼 인덱스를 더해주고\n",
    "        print(\"111: \",count)\n",
    "        print(\"111: \",i)\n",
    "    else:              # 찾지 못하면\n",
    "        i += 1         # 1만큼 인덱스를 더해줌\n",
    "        print(\"222: \",count)\n",
    "        print(\"222: \",i)\n",
    "print(count)"
   ]
  },
  {
   "cell_type": "code",
   "execution_count": null,
   "metadata": {},
   "outputs": [],
   "source": []
  }
 ],
 "metadata": {
  "kernelspec": {
   "display_name": "Python 3",
   "language": "python",
   "name": "python3"
  },
  "language_info": {
   "codemirror_mode": {
    "name": "ipython",
    "version": 3
   },
   "file_extension": ".py",
   "mimetype": "text/x-python",
   "name": "python",
   "nbconvert_exporter": "python",
   "pygments_lexer": "ipython3",
   "version": "3.8.5"
  }
 },
 "nbformat": 4,
 "nbformat_minor": 4
}
