{
 "cells": [
  {
   "cell_type": "code",
   "execution_count": 46,
   "metadata": {},
   "outputs": [
    {
     "name": "stdout",
     "output_type": "stream",
     "text": [
      "5\n",
      "2 1 2 3 4\n",
      "Yes\n"
     ]
    }
   ],
   "source": [
    "N = int(input())\n",
    "data = map(int,input().split())\n",
    "\n",
    "data = list(data)\n",
    "\n",
    "Jun = data[0]\n",
    "max_Jun = sum(data)\n",
    "\n",
    "del data[0]\n",
    "\n",
    "sort_data = sorted(data)\n",
    "\n",
    "for dat in sort_data:\n",
    "    if dat < Jun:\n",
    "        Jun += dat\n",
    "print(\"Yes\" if max_Jun == Jun else \"No\")"
   ]
  }
 ],
 "metadata": {
  "kernelspec": {
   "display_name": "Python 3",
   "language": "python",
   "name": "python3"
  },
  "language_info": {
   "codemirror_mode": {
    "name": "ipython",
    "version": 3
   },
   "file_extension": ".py",
   "mimetype": "text/x-python",
   "name": "python",
   "nbconvert_exporter": "python",
   "pygments_lexer": "ipython3",
   "version": "3.8.5"
  }
 },
 "nbformat": 4,
 "nbformat_minor": 4
}
