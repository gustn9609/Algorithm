{
 "cells": [
  {
   "cell_type": "code",
   "execution_count": 23,
   "metadata": {},
   "outputs": [
    {
     "name": "stdout",
     "output_type": "stream",
     "text": [
      "6\n",
      "39 38 9 35 39 20\n"
     ]
    }
   ],
   "source": [
    "N = int(input(\"\"))\n",
    "lst = list(map(int,input(\"\").split(\" \")))\n",
    "\n",
    "sort_lst = sorted(lst,reverse=True)\n",
    "\n",
    "max_num = max(sort_lst) + N + 3\n",
    "\n",
    "answer = []\n",
    "for i,sort in enumerate(sort_lst):\n",
    "    answer.append(i+2+sort)\n",
    "\n",
    "print(max(answer))"
   ]
  }
 ],
 "metadata": {
  "kernelspec": {
   "display_name": "Python 3",
   "language": "python",
   "name": "python3"
  },
  "language_info": {
   "codemirror_mode": {
    "name": "ipython",
    "version": 3
   },
   "file_extension": ".py",
   "mimetype": "text/x-python",
   "name": "python",
   "nbconvert_exporter": "python",
   "pygments_lexer": "ipython3",
   "version": "3.8.5"
  }
 },
 "nbformat": 4,
 "nbformat_minor": 4
}
