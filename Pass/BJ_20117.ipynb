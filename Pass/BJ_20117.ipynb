{
 "cells": [
  {
   "cell_type": "code",
   "execution_count": 49,
   "metadata": {},
   "outputs": [
    {
     "name": "stdout",
     "output_type": "stream",
     "text": [
      "4\n",
      "4 2 8 9\n",
      "34\n"
     ]
    }
   ],
   "source": [
    "N = input(\"\")\n",
    "Hoban = map(int,(input(\"\")).split(\" \"))\n",
    "Ho = sorted(list(Hoban))\n",
    "answer = 0\n",
    "if len(Ho) % 2 == 0:\n",
    "    mid = int(len(Ho)/2)\n",
    "    for i in range(mid,len(Ho)):\n",
    "        answer += Ho[i]*2\n",
    "else:\n",
    "    mid = int((len(Ho)-1)/2)\n",
    "    answer += Ho[mid]\n",
    "    for i in range(mid+1,len(Ho)):\n",
    "        answer += Ho[i]*2\n",
    "print(answer)"
   ]
  },
  {
   "cell_type": "code",
   "execution_count": null,
   "metadata": {},
   "outputs": [],
   "source": []
  }
 ],
 "metadata": {
  "kernelspec": {
   "display_name": "Python 3",
   "language": "python",
   "name": "python3"
  },
  "language_info": {
   "codemirror_mode": {
    "name": "ipython",
    "version": 3
   },
   "file_extension": ".py",
   "mimetype": "text/x-python",
   "name": "python",
   "nbconvert_exporter": "python",
   "pygments_lexer": "ipython3",
   "version": "3.8.5"
  }
 },
 "nbformat": 4,
 "nbformat_minor": 4
}
