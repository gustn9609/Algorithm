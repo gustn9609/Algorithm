{
 "cells": [
  {
   "cell_type": "code",
   "execution_count": 140,
   "metadata": {},
   "outputs": [
    {
     "name": "stdout",
     "output_type": "stream",
     "text": [
      "7\n",
      "9 9 4 1 4 9 9\n",
      "57\n"
     ]
    }
   ],
   "source": [
    "def honey_can_lst(honey_lst,h_idx,b1_idx,b2_idx):\n",
    "    can_lst = []\n",
    "    if h_idx < b1_idx:\n",
    "        can_lst.extend(list(range(h_idx+1,b1_idx)))\n",
    "    else:\n",
    "        can_lst.extend(list(range(b1_idx+1,h_idx)))\n",
    "    if b2_idx == None:\n",
    "#         print(can_lst)\n",
    "#         print(b1_idx)\n",
    "#         print(b2_idx)\n",
    "        return can_lst\n",
    "    else:\n",
    "#         print(\"여기\")\n",
    "#         print(can_lst)\n",
    "#         print(b1_idx)\n",
    "#         print(b2_idx)\n",
    "        try:\n",
    "            can_lst.remove(b2_idx)\n",
    "            return can_lst\n",
    "        except:\n",
    "            pass\n",
    "        return can_lst\n",
    "def honey_sum(honey_lst,can_lst):\n",
    "    honeysum = 0\n",
    "    for i in can_lst:\n",
    "        honeysum += honey_lst[i]\n",
    "    return honeysum\n",
    "def find_bee2(honey_lst,honey_place_idx,bee1_idx):\n",
    "    num_lst = list(range(len(honey_lst)))\n",
    "    num_lst.remove(honey_place_idx)\n",
    "    num_lst.remove(bee1_idx)\n",
    "    honey_sum = []\n",
    "    for i in num_lst:\n",
    "        honey_sum.append(((sum(honey_lst)-honey_lst[i]-honey_lst[bee1_idx]),i))\n",
    "    return max(honey_sum)\n",
    "N = int(input(\"\"))\n",
    "honey_lst = list(map(int,input(\"\").split(\" \")))\n",
    "answer=[]\n",
    "for n, honey in enumerate(honey_lst):\n",
    "    honey_place = honey\n",
    "    if n == 0:\n",
    "        bee1 = (honey_lst[-2],len(honey_lst)-1)\n",
    "        bee2 = (honey_lst[-1],len(honey_lst)-2)\n",
    "    elif n == len(honey_lst)-1:\n",
    "        bee1 = (honey_lst[0],0)\n",
    "        bee2idx = find_bee2(honey_lst,n,0)[1]\n",
    "        bee2 = (honey_lst[bee2idx],bee2idx)\n",
    "    else:\n",
    "        bee1 = (honey_lst[0],0)\n",
    "        bee2 = (honey_lst[-1],len(honey_lst)-1)\n",
    "#     print(n,honey)\n",
    "    b1_can_lst = honey_can_lst(honey_lst,n,bee1[1],bee2[1])\n",
    "    b2_can_lst = honey_can_lst(honey_lst,n,bee2[1],None)\n",
    "#     print(\"b1_can_lst : \",b1_can_lst)\n",
    "#     print(\"b2_can_lst : \",b2_can_lst)\n",
    "    answer.append(honey_sum(honey_lst,b1_can_lst)+honey_sum(honey_lst,b2_can_lst)+honey_lst[n]*2)\n",
    "print(max(answer))"
   ]
  },
  {
   "cell_type": "code",
   "execution_count": 21,
   "metadata": {},
   "outputs": [
    {
     "data": {
      "text/plain": [
       "[1, 2, 3, 4]"
      ]
     },
     "execution_count": 21,
     "metadata": {},
     "output_type": "execute_result"
    }
   ],
   "source": [
    "def honey_can_lst(honey_lst,h_idx,b1_idx,b2_idx):\n",
    "    can_lst = []\n",
    "    if h_idx < b1_idx:\n",
    "        can_lst.extend(list(range(h_idx+1,b1_idx)))\n",
    "    else:\n",
    "        can_lst.extend(list(range(b1_idx+1,h_idx)))\n",
    "    if b2_idx == None:\n",
    "        return can_lst\n",
    "    else:\n",
    "        try:\n",
    "            can_lst.remove(b2_idx)\n",
    "            return can_lst\n",
    "        except:\n",
    "            pass\n",
    "        return can_lst\n",
    "    \n",
    "def honey_sum(honey_lst,can_lst):\n",
    "    honeysum = 0\n",
    "    for i in can_lst:\n",
    "        honeysum += honey_lst[i]\n",
    "    return honeysum\n",
    "\n",
    "def find_bee2(honey_lst,honey_place_idx,bee1_idx):\n",
    "    num_lst = list(range(len(honey_lst)))\n",
    "    num_lst.remove(honey_place_idx)\n",
    "    num_lst.remove(bee1_idx)\n",
    "    honey_sum = []\n",
    "    for i in num_lst:\n",
    "        honey_sum.append(((sum(honey_lst)-honey_lst[i]-honey_lst[bee1_idx]),i))\n",
    "    return max(honey_sum)\n",
    "\n",
    "N = int(input(\"\"))\n",
    "honey_lst = list(map(int,input(\"\").split(\" \")))\n",
    "answer=[]\n",
    "for n, honey in enumerate(honey_lst):\n",
    "    honey_place = honey\n",
    "    if n == 0:\n",
    "        bee1 = (honey_lst[-2],len(honey_lst)-1)\n",
    "        bee2 = (honey_lst[-1],len(honey_lst)-2)\n",
    "    elif n == len(honey_lst)-1:\n",
    "        bee1 = (honey_lst[0],0)\n",
    "        bee2idx = find_bee2(honey_lst,n,0)[1]\n",
    "        bee2 = (honey_lst[bee2idx],bee2idx)\n",
    "    else:\n",
    "        bee1 = (honey_lst[0],0)\n",
    "        bee2 = (honey_lst[-1],len(honey_lst)-1)\n",
    "    b1_can_lst = honey_can_lst(honey_lst,n,bee1[1],bee2[1])\n",
    "    b2_can_lst = honey_can_lst(honey_lst,n,bee2[1],None)\n",
    "    answer.append(honey_sum(honey_lst,b1_can_lst)+honey_sum(honey_lst,b2_can_lst)+honey_lst[n]*2)\n",
    "print(max(answer))"
   ]
  }
 ],
 "metadata": {
  "kernelspec": {
   "display_name": "Python 3",
   "language": "python",
   "name": "python3"
  },
  "language_info": {
   "codemirror_mode": {
    "name": "ipython",
    "version": 3
   },
   "file_extension": ".py",
   "mimetype": "text/x-python",
   "name": "python",
   "nbconvert_exporter": "python",
   "pygments_lexer": "ipython3",
   "version": "3.8.5"
  }
 },
 "nbformat": 4,
 "nbformat_minor": 4
}
