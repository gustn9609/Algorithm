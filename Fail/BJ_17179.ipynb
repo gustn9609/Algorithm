{
 "cells": [
  {
   "cell_type": "code",
   "execution_count": 1,
   "metadata": {},
   "outputs": [
    {
     "ename": "NameError",
     "evalue": "name 'items' is not defined",
     "output_type": "error",
     "traceback": [
      "\u001b[1;31m---------------------------------------------------------------------------\u001b[0m",
      "\u001b[1;31mNameError\u001b[0m                                 Traceback (most recent call last)",
      "\u001b[1;32m<ipython-input-1-f28ea1aa2919>\u001b[0m in \u001b[0;36m<module>\u001b[1;34m\u001b[0m\n\u001b[0;32m      1\u001b[0m \u001b[1;32mfrom\u001b[0m \u001b[0mitertools\u001b[0m \u001b[1;32mimport\u001b[0m \u001b[0mcombinations\u001b[0m\u001b[1;33m\u001b[0m\u001b[1;33m\u001b[0m\u001b[0m\n\u001b[1;32m----> 2\u001b[1;33m \u001b[0mlist\u001b[0m\u001b[1;33m(\u001b[0m\u001b[0mcombinations\u001b[0m\u001b[1;33m(\u001b[0m\u001b[0mitems\u001b[0m\u001b[1;33m,\u001b[0m \u001b[1;36m2\u001b[0m\u001b[1;33m)\u001b[0m\u001b[1;33m)\u001b[0m\u001b[1;33m\u001b[0m\u001b[1;33m\u001b[0m\u001b[0m\n\u001b[0m\u001b[0;32m      3\u001b[0m \u001b[1;33m\u001b[0m\u001b[0m\n\u001b[0;32m      4\u001b[0m \u001b[0mN\u001b[0m\u001b[1;33m,\u001b[0m \u001b[0mM\u001b[0m\u001b[1;33m,\u001b[0m \u001b[0mL\u001b[0m \u001b[1;33m=\u001b[0m \u001b[0mmap\u001b[0m\u001b[1;33m(\u001b[0m\u001b[0mint\u001b[0m\u001b[1;33m,\u001b[0m\u001b[0minput\u001b[0m\u001b[1;33m(\u001b[0m\u001b[1;34m\"\"\u001b[0m\u001b[1;33m)\u001b[0m\u001b[1;33m.\u001b[0m\u001b[0msplit\u001b[0m\u001b[1;33m(\u001b[0m\u001b[1;34m\" \"\u001b[0m\u001b[1;33m)\u001b[0m\u001b[1;33m)\u001b[0m\u001b[1;33m\u001b[0m\u001b[1;33m\u001b[0m\u001b[0m\n\u001b[0;32m      5\u001b[0m \u001b[0mcut_place\u001b[0m\u001b[1;33m=\u001b[0m\u001b[1;33m[\u001b[0m\u001b[1;33m]\u001b[0m\u001b[1;33m\u001b[0m\u001b[1;33m\u001b[0m\u001b[0m\n",
      "\u001b[1;31mNameError\u001b[0m: name 'items' is not defined"
     ]
    }
   ],
   "source": [
    "from itertools import combinations\n",
    "list(combinations(items, 2))\n",
    "    \n",
    "N, M, L = map(int,input(\"\").split(\" \"))\n",
    "cut_place=[]\n",
    "N_lst=[]\n",
    "for i in range(M):\n",
    "    cut_place.append(int(input(\"\")))\n",
    "for i in range(N):\n",
    "    N_lst.append(int(input(\"\")))\n",
    "cake = []\n",
    "\n",
    "def main(N):\n",
    "    for i, place in enumerate(cut_place):\n",
    "        if i == 0:\n",
    "            cake.append(max([place,cut_place[i+1]-place]))\n",
    "        elif i == len(cut_place)-1:\n",
    "            cake.append(max([place-cut_place[i-1],L-place]))\n",
    "        else:\n",
    "            cake.append(max([place-cut_place[i-1],cut_place[i+1]-place]))\n",
    "    print(sorted(cake)[N-1])\n",
    "    \n",
    "for N in N_lst:\n",
    "    main(N)\n",
    "        "
   ]
  },
  {
   "cell_type": "code",
   "execution_count": 85,
   "metadata": {},
   "outputs": [],
   "source": [
    "from itertools import combinations\n",
    "N_lst = [2,3,4]\n",
    "cut_place = [10,20,35,45,55]\n",
    "L = 80"
   ]
  },
  {
   "cell_type": "code",
   "execution_count": 86,
   "metadata": {},
   "outputs": [
    {
     "name": "stdout",
     "output_type": "stream",
     "text": [
      "[(10, 20), (10, 35), (10, 45), (10, 55), (20, 35), (20, 45), (20, 55), (35, 45), (35, 55), (45, 55)]\n"
     ]
    }
   ],
   "source": [
    "print(list(combinations(cut_place,2)))"
   ]
  },
  {
   "cell_type": "code",
   "execution_count": 87,
   "metadata": {},
   "outputs": [
    {
     "name": "stdout",
     "output_type": "stream",
     "text": [
      "-15\n",
      "0\n",
      "10\n"
     ]
    }
   ],
   "source": [
    "def main(N):\n",
    "    cake=[]\n",
    "    for combi in list(combinations(cut_place,N)):\n",
    "        for i,place in enumerate(combi):\n",
    "            if place == cut_place[0]:\n",
    "                cake.append(max([place,cut_place[i+1]-place]))\n",
    "            elif place == cut_place[-1]:\n",
    "                cake.append(max([place-cut_place[i-1],L-place]))\n",
    "            else:\n",
    "                cake.append(max([place-cut_place[i-1],cut_place[i+1]-place]))\n",
    "    print(sorted(cake)[N-1])\n",
    "    \n",
    "for N in N_lst:\n",
    "    main(N)"
   ]
  },
  {
   "cell_type": "code",
   "execution_count": null,
   "metadata": {
    "scrolled": true
   },
   "outputs": [],
   "source": [
    "from itertools import combinations\n",
    "# import sys\n",
    "# input = sys.stdin.readline()\n",
    "N, M, L = map(int,input(\"\").split(\" \"))\n",
    "\n",
    "cut_place=[]\n",
    "N_lst=[]\n",
    "\n",
    "for i in range(M):\n",
    "    cut_place.append(int(input(\"\")))\n",
    "for i in range(N):\n",
    "    N_lst.append(int(input(\"\")))\n",
    "\n",
    "def main(N):\n",
    "    max_cake = set()\n",
    "    for combi in set(combinations(cut_place,N)):\n",
    "        cake=[]\n",
    "        combis = [0]+list(combi)+[L]\n",
    "        for i,comb in enumerate(combis[1:]):\n",
    "            cake.append(comb-combis[i])\n",
    "        max_cake.update([min(cake)])\n",
    "\n",
    "    print(max(max_cake))\n",
    "for N in N_lst:\n",
    "    main(N)"
   ]
  },
  {
   "cell_type": "code",
   "execution_count": null,
   "metadata": {},
   "outputs": [],
   "source": [
    "from itertools import combinations\n",
    "import sys\n",
    "\n",
    "N, M, L = map(int,input(\"\").split(\" \"))\n",
    "\n",
    "cut_place = list(map(int,sys.stdin.readline().strip() for i in range(M)))\n",
    "N_lst = list(map(int,sys.stdin.readline().strip() for i in range(N)))\n",
    "\n",
    "\n",
    "for N in N_lst:\n",
    "    max_cake = set()\n",
    "    for combi in set(combinations(cut_place,N)):\n",
    "        cake=[]\n",
    "        combis = [0]+list(combi)+[L]\n",
    "        for i,comb in enumerate(combis[1:]):\n",
    "            cake.append(comb-combis[i])\n",
    "        max_cake.update([min(cake)])\n",
    "    print(max(max_cake))"
   ]
  },
  {
   "cell_type": "code",
   "execution_count": null,
   "metadata": {},
   "outputs": [],
   "source": []
  }
 ],
 "metadata": {
  "kernelspec": {
   "display_name": "Python 3",
   "language": "python",
   "name": "python3"
  }
 },
 "nbformat": 4,
 "nbformat_minor": 4
}
