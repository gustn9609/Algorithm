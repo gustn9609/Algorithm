{
 "cells": [
  {
   "cell_type": "code",
   "execution_count": 2,
   "metadata": {},
   "outputs": [
    {
     "name": "stdout",
     "output_type": "stream",
     "text": [
      "7\n",
      "4 4 9 1 9 4 4\n",
      "54\n"
     ]
    }
   ],
   "source": [
    "def honey_can_lst(honey_lst,h_idx,b1_idx,b2_idx):\n",
    "    can_lst = []\n",
    "    if h_idx < b1_idx:\n",
    "        can_lst.extend(list(range(h_idx+1,b1_idx)))\n",
    "    else:\n",
    "        can_lst.extend(list(range(b1_idx+1,h_idx)))\n",
    "    if b2_idx == None:\n",
    "#         print(can_lst)\n",
    "#         print(b1_idx)\n",
    "#         print(b2_idx)\n",
    "        return can_lst\n",
    "    else:\n",
    "#         print(\"여기\")\n",
    "#         print(can_lst)\n",
    "#         print(b1_idx)\n",
    "#         print(b2_idx)\n",
    "        try:\n",
    "            can_lst.remove(b2_idx)\n",
    "            return can_lst\n",
    "        except:\n",
    "            pass\n",
    "        return can_lst\n",
    "def honey_sum(honey_lst,can_lst):\n",
    "    honeysum = 0\n",
    "    for i in can_lst:\n",
    "        honeysum += honey_lst[i]\n",
    "    return honeysum\n",
    "def find_bee2(honey_lst,honey_place_idx,bee1_idx):\n",
    "    num_lst = list(range(len(honey_lst)))\n",
    "    num_lst.remove(honey_place_idx)\n",
    "    num_lst.remove(bee1_idx)\n",
    "    honey_sum = []\n",
    "    for i in num_lst:\n",
    "        honey_sum.append(((sum(honey_lst)-honey_lst[i]-honey_lst[bee1_idx]),i))\n",
    "    return max(honey_sum)\n",
    "N = int(input(\"\"))\n",
    "honey_lst = list(map(int,input(\"\").split(\" \")))\n",
    "answer=[]\n",
    "for n, honey in enumerate(honey_lst):\n",
    "    honey_place = honey\n",
    "    if n == 0:\n",
    "        bee1 = (honey_lst[-2],len(honey_lst)-1)\n",
    "        bee2 = (honey_lst[-1],len(honey_lst)-2)\n",
    "    elif n == len(honey_lst)-1:\n",
    "        bee1 = (honey_lst[0],0)\n",
    "        bee2idx = find_bee2(honey_lst,n,0)[1]\n",
    "        bee2 = (honey_lst[bee2idx],bee2idx)\n",
    "    else:\n",
    "        bee1 = (honey_lst[0],0)\n",
    "        bee2 = (honey_lst[-1],len(honey_lst)-1)\n",
    "#     print(n,honey)\n",
    "    b1_can_lst = honey_can_lst(honey_lst,n,bee1[1],bee2[1])\n",
    "    b2_can_lst = honey_can_lst(honey_lst,n,bee2[1],None)\n",
    "#     print(\"b1_can_lst : \",b1_can_lst)\n",
    "#     print(\"b2_can_lst : \",b2_can_lst)\n",
    "    answer.append(honey_sum(honey_lst,b1_can_lst)+honey_sum(honey_lst,b2_can_lst)+honey_lst[n]*2)\n",
    "print(max(answer))"
   ]
  },
  {
   "cell_type": "code",
   "execution_count": 23,
   "metadata": {},
   "outputs": [
    {
     "name": "stdout",
     "output_type": "stream",
     "text": [
      "ss\n"
     ]
    },
    {
     "ename": "ValueError",
     "evalue": "invalid literal for int() with base 10: 'ss'",
     "output_type": "error",
     "traceback": [
      "\u001b[1;31m---------------------------------------------------------------------------\u001b[0m",
      "\u001b[1;31mValueError\u001b[0m                                Traceback (most recent call last)",
      "\u001b[1;32m<ipython-input-23-d7fb24941b98>\u001b[0m in \u001b[0;36m<module>\u001b[1;34m\u001b[0m\n\u001b[0;32m     30\u001b[0m     \u001b[1;32mreturn\u001b[0m \u001b[0mmax\u001b[0m\u001b[1;33m(\u001b[0m\u001b[0mhoney_sum\u001b[0m\u001b[1;33m)\u001b[0m\u001b[1;33m\u001b[0m\u001b[1;33m\u001b[0m\u001b[0m\n\u001b[0;32m     31\u001b[0m \u001b[1;33m\u001b[0m\u001b[0m\n\u001b[1;32m---> 32\u001b[1;33m \u001b[0mN\u001b[0m \u001b[1;33m=\u001b[0m \u001b[0mint\u001b[0m\u001b[1;33m(\u001b[0m\u001b[0minput\u001b[0m\u001b[1;33m(\u001b[0m\u001b[1;34m\"\"\u001b[0m\u001b[1;33m)\u001b[0m\u001b[1;33m)\u001b[0m\u001b[1;33m\u001b[0m\u001b[1;33m\u001b[0m\u001b[0m\n\u001b[0m\u001b[0;32m     33\u001b[0m \u001b[0mhoney_lst\u001b[0m \u001b[1;33m=\u001b[0m \u001b[0mlist\u001b[0m\u001b[1;33m(\u001b[0m\u001b[0mmap\u001b[0m\u001b[1;33m(\u001b[0m\u001b[0mint\u001b[0m\u001b[1;33m,\u001b[0m\u001b[0minput\u001b[0m\u001b[1;33m(\u001b[0m\u001b[1;34m\"\"\u001b[0m\u001b[1;33m)\u001b[0m\u001b[1;33m.\u001b[0m\u001b[0msplit\u001b[0m\u001b[1;33m(\u001b[0m\u001b[1;34m\" \"\u001b[0m\u001b[1;33m)\u001b[0m\u001b[1;33m)\u001b[0m\u001b[1;33m)\u001b[0m\u001b[1;33m\u001b[0m\u001b[1;33m\u001b[0m\u001b[0m\n\u001b[0;32m     34\u001b[0m \u001b[0manswer\u001b[0m\u001b[1;33m=\u001b[0m\u001b[1;33m[\u001b[0m\u001b[1;33m]\u001b[0m\u001b[1;33m\u001b[0m\u001b[1;33m\u001b[0m\u001b[0m\n",
      "\u001b[1;31mValueError\u001b[0m: invalid literal for int() with base 10: 'ss'"
     ]
    }
   ],
   "source": [
    "def honey_can_lst(honey_lst,h_idx,b1_idx,b2_idx):\n",
    "    can_lst = []\n",
    "    if h_idx < b1_idx:\n",
    "        can_lst.extend(list(range(h_idx+1,b1_idx)))\n",
    "    else:\n",
    "        can_lst.extend(list(range(b1_idx+1,h_idx)))\n",
    "    if b2_idx == None:\n",
    "        return can_lst\n",
    "    else:\n",
    "        try:\n",
    "            can_lst.remove(b2_idx)\n",
    "            return can_lst\n",
    "        except:\n",
    "            pass\n",
    "        return can_lst\n",
    "    \n",
    "def honey_sum(honey_lst,can_lst):\n",
    "    honeysum = 0\n",
    "    for i in can_lst:\n",
    "        honeysum += honey_lst[i]\n",
    "    return honeysum\n",
    "\n",
    "def find_bee2(honey_lst,honey_place_idx,bee1_idx):\n",
    "    num_lst = list(range(len(honey_lst)))\n",
    "    num_lst.remove(honey_place_idx)\n",
    "    num_lst.remove(bee1_idx)\n",
    "    honey_sum = []\n",
    "    for i in num_lst:\n",
    "        honey_sum.append(((sum(honey_lst)-honey_lst[i]-honey_lst[bee1_idx]),i))\n",
    "    return max(honey_sum)\n",
    "\n",
    "N = int(input(\"\"))\n",
    "honey_lst = list(map(int,input(\"\").split(\" \")))\n",
    "answer=[]\n",
    "for n, honey in enumerate(honey_lst):\n",
    "    honey_place = honey\n",
    "    if n == 0:\n",
    "        bee1 = (honey_lst[-2],len(honey_lst)-1)\n",
    "        bee2 = (honey_lst[-1],len(honey_lst)-2)\n",
    "    elif n == len(honey_lst)-1:\n",
    "        bee1 = (honey_lst[0],0)\n",
    "        bee2idx = find_bee2(honey_lst,n,0)[1]\n",
    "        bee2 = (honey_lst[bee2idx],bee2idx)\n",
    "    else:\n",
    "        bee1 = (honey_lst[0],0)\n",
    "        bee2 = (honey_lst[-1],len(honey_lst)-1)\n",
    "    b1_can_lst = honey_can_lst(honey_lst,n,bee1[1],bee2[1])\n",
    "    b2_can_lst = honey_can_lst(honey_lst,n,bee2[1],None)\n",
    "    answer.append(honey_sum(honey_lst,b1_can_lst)+honey_sum(honey_lst,b2_can_lst)+honey_lst[n]*2)\n",
    "print(max(answer))"
   ]
  },
  {
   "cell_type": "code",
   "execution_count": 56,
   "metadata": {},
   "outputs": [
    {
     "name": "stdout",
     "output_type": "stream",
     "text": [
      "7\n",
      "9 9 4 1 4 9 9\n"
     ]
    }
   ],
   "source": [
    "N = int(input(\"\"))\n",
    "honey_lst = list(map(int,input(\"\").split(\" \")))\n",
    "s = [0 for _ in range(N + 1)]"
   ]
  },
  {
   "cell_type": "code",
   "execution_count": 63,
   "metadata": {},
   "outputs": [],
   "source": [
    "for i in range(1, N+1):\n",
    "    s[i] = s[i-1] + honey_lst[i-1]\n",
    "answer = 0"
   ]
  },
  {
   "cell_type": "code",
   "execution_count": 67,
   "metadata": {},
   "outputs": [
    {
     "name": "stdout",
     "output_type": "stream",
     "text": [
      "[9, 9, 4, 1, 4, 9, 9]\n",
      "[0, 9, 18, 22, 23, 27, 36, 45]\n"
     ]
    }
   ],
   "source": [
    "# 9 9 4 1 4 9 9\n",
    "# g b         b\n",
    "# g   b       b\n",
    "print(honey_lst)\n",
    "print(s)"
   ]
  },
  {
   "cell_type": "code",
   "execution_count": 83,
   "metadata": {},
   "outputs": [
    {
     "name": "stdout",
     "output_type": "stream",
     "text": [
      "[9, 18, 22, 23, 27, 36, 45]\n",
      "----------\n",
      "1\n",
      "36\n",
      "----------\n",
      "----------\n",
      "2\n",
      "31\n",
      "----------\n",
      "----------\n",
      "3\n",
      "28\n",
      "----------\n",
      "----------\n",
      "4\n",
      "31\n",
      "----------\n",
      "----------\n",
      "5\n",
      "36\n",
      "----------\n",
      "54\n",
      "55\n",
      "57\n",
      "50\n",
      "9\n",
      "36\n",
      "18\n",
      "50\n",
      "22\n",
      "57\n",
      "23\n",
      "55\n",
      "27\n",
      "54\n",
      "ans :  57\n"
     ]
    }
   ],
   "source": [
    "# n = int(input())\n",
    "# honey_lst = list(map(int,input().split()))\n",
    "n = 7\n",
    "honey_lst = [9, 9, 4, 1, 4, 9, 9]\n",
    "ans=0\n",
    "s=[]\n",
    "s.append(honey_lst[0])\n",
    "for i in range(1,n):\n",
    "    s.append(s[i-1]+honey_lst[i])\n",
    "print(s)\n",
    "for i in range(1,n-1):\n",
    "    print('----------')\n",
    "    print(i)\n",
    "    print(s[n-2]-honey_lst[0]+honey_lst[i])\n",
    "    ans=max(ans,s[n-2]-honey_lst[0]+honey_lst[i])\n",
    "    print('----------')\n",
    "\n",
    "for i in range(1, n - 2):\n",
    "    print(s[n-1] - honey_lst[0] - honey_lst[i] + s[n-1] - s[i])\n",
    "    ans = max(ans, s[n-1] - honey_lst[0] - honey_lst[i] + s[n-1] - s[i])\n",
    "\n",
    "for i in range(1,n-1):\n",
    "    print(s[i-1])\n",
    "    print(2*s[i-1]+s[n-2]-s[i])\n",
    "    ans=max(ans,2*s[i-1]+s[n-2]-s[i])\n",
    "\n",
    "print('ans : ',ans)"
   ]
  },
  {
   "cell_type": "code",
   "execution_count": 76,
   "metadata": {},
   "outputs": [
    {
     "data": {
      "text/plain": [
       "57"
      ]
     },
     "execution_count": 76,
     "metadata": {},
     "output_type": "execute_result"
    }
   ],
   "source": [
    "ans"
   ]
  },
  {
   "cell_type": "code",
   "execution_count": null,
   "metadata": {},
   "outputs": [],
   "source": []
  }
 ],
 "metadata": {
  "kernelspec": {
   "display_name": "Python 3",
   "language": "python",
   "name": "python3"
  },
  "language_info": {
   "codemirror_mode": {
    "name": "ipython",
    "version": 3
   },
   "file_extension": ".py",
   "mimetype": "text/x-python",
   "name": "python",
   "nbconvert_exporter": "python",
   "pygments_lexer": "ipython3",
   "version": "3.8.5"
  }
 },
 "nbformat": 4,
 "nbformat_minor": 4
}
