{
 "cells": [
  {
   "cell_type": "code",
   "execution_count": 164,
   "id": "b59c46bd",
   "metadata": {},
   "outputs": [
    {
     "name": "stdout",
     "output_type": "stream",
     "text": [
      "6 9\n",
      "3 6\n",
      "2 7\n",
      "4 6\n",
      "4 2\n",
      "4 10\n",
      "1 5\n",
      "19\n"
     ]
    }
   ],
   "source": [
    "# my answer (wrong)\n",
    "N, K = map(int,input().split())\n",
    "data = []\n",
    "for i in range(N):\n",
    "    data.append(tuple(map(int,input().split())))\n",
    "data.sort(key=lambda x:x[0])\n",
    "answer = []\n",
    "def my_value(data):\n",
    "    status = 0\n",
    "    for j in range(len(data)):\n",
    "        value = 0\n",
    "        w = 0\n",
    "        for i in data[j:]:\n",
    "            if w+i[0] > K:\n",
    "                answer.append(value)\n",
    "                status = 1\n",
    "                break\n",
    "            else:\n",
    "                w += i[0]\n",
    "                value += i[1]\n",
    "        if status == 0:\n",
    "            answer.append(value)\n",
    "my_value(data)\n",
    "\n",
    "print(max(answer))"
   ]
  },
  {
   "cell_type": "code",
   "execution_count": 186,
   "id": "4a798277",
   "metadata": {},
   "outputs": [
    {
     "name": "stdout",
     "output_type": "stream",
     "text": [
      "6 9\n",
      "3 6\n",
      "2 7\n",
      "4 6\n",
      "4 2\n",
      "4 10\n",
      "1 5\n",
      "23\n"
     ]
    }
   ],
   "source": [
    "# answer\n",
    "import sys\n",
    "\n",
    "N, K = map(int, input().split())\n",
    "stuff = [[0,0]]\n",
    "knapsack = [[0 for _ in range(K + 1)] for _ in range(N + 1)]\n",
    "\n",
    "for _ in range(N):\n",
    "    stuff.append(list(map(int, input().split())))\n",
    "\n",
    "\n",
    "for i in range(1, N + 1):\n",
    "    for j in range(1, K + 1):\n",
    "        weight = stuff[i][0] \n",
    "        value = stuff[i][1]\n",
    "       \n",
    "        if j < weight:\n",
    "            knapsack[i][j] = knapsack[i - 1][j] #weight보다 작으면 위의 값을 그대로 가져온다\n",
    "        else:\n",
    "            knapsack[i][j] = max(value + knapsack[i - 1][j - weight], knapsack[i - 1][j])\n",
    "\n",
    "print(knapsack[N][K])"
   ]
  },
  {
   "cell_type": "code",
   "execution_count": null,
   "id": "d0b06cb8",
   "metadata": {},
   "outputs": [],
   "source": []
  }
 ],
 "metadata": {
  "kernelspec": {
   "display_name": "Python 3 (ipykernel)",
   "language": "python",
   "name": "python3"
  },
  "language_info": {
   "codemirror_mode": {
    "name": "ipython",
    "version": 3
   },
   "file_extension": ".py",
   "mimetype": "text/x-python",
   "name": "python",
   "nbconvert_exporter": "python",
   "pygments_lexer": "ipython3",
   "version": "3.8.13"
  }
 },
 "nbformat": 4,
 "nbformat_minor": 5
}
